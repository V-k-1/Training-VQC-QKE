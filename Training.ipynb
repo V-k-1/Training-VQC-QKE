{
 "cells": [
  {
   "cell_type": "markdown",
   "id": "1107d9a4",
   "metadata": {},
   "source": [
    "## Training a variational classifier"
   ]
  },
  {
   "cell_type": "markdown",
   "id": "28054333",
   "metadata": {},
   "source": [
    "In this notebook, we show how to train variational quantum circuits using labelled data. We will use data from the Sloan Digitial Sky Survey, Data release 16(SDSS DR16) catalogue data. The survey provides photometric fluxes and redshifts of astronomical objects like galaxies, stars & quasars. We use a subsample of 400 samples out of which 200 are stars and rest is galaxies. "
   ]
  },
  {
   "cell_type": "markdown",
   "id": "bf7435b4",
   "metadata": {},
   "source": [
    "We first import the required modules: PennyLane, PennyLane-provided version of NumPy, the adam optimizer,pandas and sklearn preprocessing functions"
   ]
  },
  {
   "cell_type": "code",
   "execution_count": 1,
   "id": "1dc6d7b6",
   "metadata": {},
   "outputs": [
    {
     "name": "stderr",
     "output_type": "stream",
     "text": [
      "Intel(R) Extension for Scikit-learn* enabled (https://github.com/intel/scikit-learn-intelex)\n"
     ]
    }
   ],
   "source": [
    "import pennylane as qml\n",
    "from pennylane import numpy as np\n",
    "from pennylane.optimize import NesterovMomentumOptimizer,AdamOptimizer ##remove\n",
    "import pandas as pd\n",
    "import torch\n",
    "from torch.nn.functional import relu\n",
    "from sklearn.svm import SVC\n",
    "from sklearn.datasets import load_iris\n",
    "from sklearn.preprocessing import StandardScaler\n",
    "from sklearn.model_selection import train_test_split\n",
    "from sklearn.metrics import accuracy_score\n",
    "import pennylane as qml\n",
    "from pennylane.templates import AngleEmbedding, StronglyEntanglingLayers\n",
    "from pennylane.operation import Tensor\n",
    "from sklearn.preprocessing import MinMaxScaler, StandardScaler\n",
    "from sklearn.model_selection import train_test_split"
   ]
  },
  {
   "cell_type": "markdown",
   "id": "32739d50",
   "metadata": {},
   "source": [
    "First, we create a quantum device with 2 qubits."
   ]
  },
  {
   "cell_type": "code",
   "execution_count": 2,
   "id": "5d268843",
   "metadata": {},
   "outputs": [],
   "source": [
    "dev = qml.device(\"default.qubit\", wires=2)"
   ]
  },
  {
   "cell_type": "markdown",
   "id": "ef3ccba8",
   "metadata": {},
   "source": [
    "<ul>We will perform amplitude encoding. To do this we create 2 functions : \"transform\" and \"statepreparation\".\n",
    "    <li>\"transform\" : map the 4 dimensional feature vector to 5 dimensional vector of angles.</li>\n",
    "    <li>\"statepreparation\" : encode the angle vector into the qubits.</li>"
   ]
  },
  {
   "cell_type": "code",
   "execution_count": 3,
   "id": "738ae45c",
   "metadata": {},
   "outputs": [],
   "source": [
    "def transform(x):\n",
    "    x0 = 2*np.arcsin(np.sqrt(x[1]**2)/np.sqrt(x[0] ** 2 + x[1] ** 2 + 1e-12))\n",
    "    x1 = 2*np.arcsin(np.sqrt(x[3]**2)/np.sqrt(x[2] ** 2 + x[3] ** 2 + 1e-12))\n",
    "    x2 = 2*np.arcsin(np.sqrt(x[2]**2 + x[3] ** 2)/np.sqrt(x[0] ** 2 + x[1] ** 2 + x[2] ** 2 + x[3] ** 2))\n",
    "    return np.array([x2, -x1 / 2, x1 / 2, -x0 / 2, x0 / 2])"
   ]
  },
  {
   "cell_type": "code",
   "execution_count": 4,
   "id": "3ee7f7e0",
   "metadata": {},
   "outputs": [],
   "source": [
    "def statepreparation(a):\n",
    "    qml.RY(a[0], wires=0)\n",
    "\n",
    "    qml.CNOT(wires=[0, 1])\n",
    "    qml.RY(a[1], wires=1)\n",
    "    qml.CNOT(wires=[0, 1])\n",
    "    qml.RY(a[2], wires=1)\n",
    "\n",
    "    qml.PauliX(wires=0)\n",
    "    qml.CNOT(wires=[0, 1])\n",
    "    qml.RY(a[3], wires=1)\n",
    "    qml.CNOT(wires=[0, 1])\n",
    "    qml.RY(a[4], wires=1)\n",
    "    qml.PauliX(wires=0)"
   ]
  },
  {
   "cell_type": "markdown",
   "id": "e2c0de73",
   "metadata": {},
   "source": [
    "Below you can see how the encoding looks, (where elements of a are all taken to be pi/2)"
   ]
  },
  {
   "cell_type": "markdown",
   "id": "ca0c897b",
   "metadata": {},
   "source": [
    "![](statepreparation.png)"
   ]
  },
  {
   "cell_type": "markdown",
   "id": "7e48b2b0",
   "metadata": {},
   "source": [
    "The state preparation routine will followed by a repetition of a layer structure. Layers are an elementary circuit architecture which is repeated to build a variational circuit.\n",
    "\n",
    "Our circuit layer will consist of an arbitrary rotation on every qubit, where the rotation angles are the weights of the circuit to be optimised. This will be followed by a CNOT that entangles the first qubit with its neighbour."
   ]
  },
  {
   "cell_type": "code",
   "execution_count": 5,
   "id": "9ba099b5",
   "metadata": {},
   "outputs": [],
   "source": [
    "def layer(W):\n",
    "    qml.Rot(W[0, 0], W[0, 1], W[0, 2], wires=0)\n",
    "    qml.Rot(W[1, 0], W[1, 1], W[1, 2], wires=1)\n",
    "    qml.CNOT(wires=[0, 1])"
   ]
  },
  {
   "cell_type": "markdown",
   "id": "733b3817",
   "metadata": {},
   "source": [
    "We now define the quantum circuit which takes the features(angles) and weights as input, and returns the expectation value of the 1st qubit as the output."
   ]
  },
  {
   "cell_type": "code",
   "execution_count": 6,
   "id": "bdc36884",
   "metadata": {},
   "outputs": [],
   "source": [
    "@qml.qnode(dev)\n",
    "def circuit(weights, angles):\n",
    "    statepreparation(angles)\n",
    "    for W in weights:\n",
    "        layer(W)\n",
    "    return qml.expval(qml.PauliZ(0))"
   ]
  },
  {
   "cell_type": "markdown",
   "id": "5aeaed40",
   "metadata": {},
   "source": [
    "We now add a 'classical' bias term to the output of the circuit"
   ]
  },
  {
   "cell_type": "code",
   "execution_count": 7,
   "id": "6cf41b9a",
   "metadata": {},
   "outputs": [],
   "source": [
    "def variational_classifier(weights, bias, angles):\n",
    "    return circuit(weights, angles) + bias"
   ]
  },
  {
   "cell_type": "markdown",
   "id": "399d8a36",
   "metadata": {},
   "source": [
    "Lets draw the circuit to better visualize whats happening inside"
   ]
  },
  {
   "cell_type": "code",
   "execution_count": 8,
   "id": "5fac7b16",
   "metadata": {
    "scrolled": true
   },
   "outputs": [
    {
     "name": "stdout",
     "output_type": "stream",
     "text": [
      " 0: ──RY(-0.514)──╭C─────────────╭C──X───────────╭C────────────╭C──X───────────Rot(-1.24, 0.134, -1.36)──╭C──┤ ⟨Z⟩ \n",
      " 1: ──────────────╰X──RY(0.167)──╰X──RY(-0.187)──╰X──RY(1.48)──╰X──RY(-0.964)──Rot(0.208, 0.122, 0.552)──╰X──┤     \n",
      "\n",
      "| -------------------------------- encoding -------------------------------- | ----------- layer ---------- | measurement\n"
     ]
    }
   ],
   "source": [
    "drawer = qml.draw(circuit)\n",
    "w,a=np.random.randn(1,2, 3),np.random.randn(5)\n",
    "print(drawer(w,a))\n",
    "print('|','-'*32,'encoding','-'*32,'|','-'*11,'layer','-'*10,'|','measurement')"
   ]
  },
  {
   "cell_type": "markdown",
   "id": "52bacdcf",
   "metadata": {},
   "source": [
    "Here we show a variational circuit with just one layer.In the actual circuit that we'll use, there will be 6 such layers. Each layer has 6 weights, so the circuit has total 36+1 weights and bias to train."
   ]
  },
  {
   "cell_type": "markdown",
   "id": "168a4b20",
   "metadata": {},
   "source": [
    "Below we show the general structure of Variational quantum classifiers.  (source:https://arxiv.org/abs/2105.10162v1)"
   ]
  },
  {
   "cell_type": "markdown",
   "id": "f6d0dbb1",
   "metadata": {},
   "source": [
    "<img src=\"VQC.png\" width=\"600\"/>"
   ]
  },
  {
   "cell_type": "markdown",
   "id": "b2e46d80",
   "metadata": {},
   "source": [
    "Next, to be able to train the circuit, we need to define a cost function. Here, the cost function is mean squared error"
   ]
  },
  {
   "cell_type": "code",
   "execution_count": 9,
   "id": "9a6b6bf7",
   "metadata": {},
   "outputs": [],
   "source": [
    "def MSE(labels, predictions):\n",
    "    loss = 0\n",
    "    for l, p in zip(labels, predictions):\n",
    "        loss = loss + (l - p) ** 2\n",
    "    loss = loss / len(labels)\n",
    "    return loss\n",
    "def cost(weights, bias, features, labels):\n",
    "    predictions = [variational_classifier(weights, bias, f) for f in features]\n",
    "    return MSE(labels, predictions)"
   ]
  },
  {
   "cell_type": "markdown",
   "id": "546ce770",
   "metadata": {},
   "source": [
    "The accuracy informs the fraction of samples that were correctly predicted."
   ]
  },
  {
   "cell_type": "code",
   "execution_count": 10,
   "id": "d94c6a42",
   "metadata": {},
   "outputs": [],
   "source": [
    "def accuracy(labels, predictions):\n",
    "    count = 0\n",
    "    for l, p in zip(labels, predictions):\n",
    "        if abs(l - p) < 1e-5:\n",
    "            count = count + 1\n",
    "    frac = count/len(labels)\n",
    "    return frac"
   ]
  },
  {
   "cell_type": "markdown",
   "id": "bc563be7",
   "metadata": {},
   "source": [
    "We now load the data"
   ]
  },
  {
   "cell_type": "code",
   "execution_count": 26,
   "id": "5ad6374d",
   "metadata": {},
   "outputs": [],
   "source": [
    "data=pd.read_csv('400_data.csv')[['u','g','r','i','z','class','redshift']]"
   ]
  },
  {
   "cell_type": "code",
   "execution_count": 27,
   "id": "12f4a417",
   "metadata": {},
   "outputs": [],
   "source": [
    "data['class'].replace(0,-1,inplace=True)"
   ]
  },
  {
   "cell_type": "markdown",
   "id": "3ed23968",
   "metadata": {},
   "source": [
    "The five SDSS ugriz filters-'u','g','r','i','z' are the intensities of light obtained in the 5 wavelength bands of the telescope. The effective wavelength range is ~350 nm to ~920 nm. 'redshift' informs the estimated redshift of the object.\n",
    "\n",
    "A value of -1 in the class column means the object is a star, while 1 means its a galaxy.\n",
    "\n",
    "For the present problem, we use the 'u','r','z' & redshift of the object as the features, and 'class' as the target to be predicted.The dataset is equally divided into stars and galaxies, hence an accuracy of >50% will mean that the classifier has learnt something useful."
   ]
  },
  {
   "cell_type": "code",
   "execution_count": 28,
   "id": "71c854cb",
   "metadata": {},
   "outputs": [],
   "source": [
    "scaler=MinMaxScaler()\n",
    "X,Y=scaler.fit_transform(data[['u','r','z','redshift']]),data['class'].values\n",
    "normalization = np.sqrt(np.sum(X ** 2, -1))\n",
    "X_norm = (X.T / normalization).T\n",
    "features = np.array([transform(x) for x in X_norm], requires_grad=False)"
   ]
  },
  {
   "cell_type": "markdown",
   "id": "cf7a2cf8",
   "metadata": {},
   "source": [
    "We now divide the dataset into training and validation datasets with a 3:1 split."
   ]
  },
  {
   "cell_type": "code",
   "execution_count": 15,
   "id": "a4d7d355",
   "metadata": {},
   "outputs": [],
   "source": [
    "feats_train, feats_val, Y_train, Y_val = train_test_split(features,Y,test_size=0.25)"
   ]
  },
  {
   "cell_type": "markdown",
   "id": "3f5fef14",
   "metadata": {},
   "source": [
    "<ul>Now for the final step - training. We will use the adam optimizer and define the mini batch size to be 150, i.e. the number of samples to use for training at every step.\n",
    "    <li>Initialize the weights of the circuit to random values. The bias can be initialized to a zero or random float.</li>\n",
    "    <li>Optimize the weights by iterating over a loop, in which the optimizer calculates new weights using the previous weights and corresponding cost.</li>\n",
    "You can also perform hyperparameter optimization, i.e. find the best learning rate, number of layers etc. to achieve the best results."
   ]
  },
  {
   "cell_type": "code",
   "execution_count": 16,
   "id": "cbb1ceb8",
   "metadata": {
    "scrolled": false
   },
   "outputs": [
    {
     "name": "stderr",
     "output_type": "stream",
     "text": [
      "C:\\Users\\Dheeru\\Anaconda3\\envs\\vk\\lib\\site-packages\\pennylane\\_grad.py:95: UserWarning: Starting with PennyLane v0.21.0, when using Autograd, inputs have to explicitly specify requires_grad=True (or the argnum argument must be passed) in order for trainable parameters to be identified.\n",
      "  warnings.warn(\n"
     ]
    },
    {
     "name": "stdout",
     "output_type": "stream",
     "text": [
      "Iter:     1 | Cost: 1.2778590 | Acc train: 0.5100000 | Acc validation: 0.4700000\n",
      "Iter:     2 | Cost: 1.1481519 | Acc train: 0.5633333 | Acc validation: 0.5000000\n",
      "Iter:     3 | Cost: 0.9713960 | Acc train: 0.6166667 | Acc validation: 0.5800000\n",
      "Iter:     4 | Cost: 0.7687437 | Acc train: 0.7366667 | Acc validation: 0.7100000\n",
      "Iter:     5 | Cost: 0.6197160 | Acc train: 0.7966667 | Acc validation: 0.8300000\n",
      "Iter:     6 | Cost: 0.5378873 | Acc train: 0.8300000 | Acc validation: 0.8400000\n",
      "Iter:     7 | Cost: 0.5013341 | Acc train: 0.8600000 | Acc validation: 0.8400000\n",
      "Iter:     8 | Cost: 0.4739021 | Acc train: 0.8600000 | Acc validation: 0.8500000\n",
      "Iter:     9 | Cost: 0.4451919 | Acc train: 0.8600000 | Acc validation: 0.8400000\n",
      "Iter:    10 | Cost: 0.4090217 | Acc train: 0.8800000 | Acc validation: 0.8300000\n",
      "Iter:    11 | Cost: 0.3590189 | Acc train: 0.9033333 | Acc validation: 0.8800000\n",
      "Iter:    12 | Cost: 0.3222441 | Acc train: 0.9300000 | Acc validation: 0.9300000\n",
      "Iter:    13 | Cost: 0.3177888 | Acc train: 0.9500000 | Acc validation: 0.9500000\n",
      "Iter:    14 | Cost: 0.3362355 | Acc train: 0.9666667 | Acc validation: 0.9600000\n",
      "Iter:    15 | Cost: 0.3413794 | Acc train: 0.9666667 | Acc validation: 0.9700000\n",
      "Iter:    16 | Cost: 0.3368775 | Acc train: 0.9500000 | Acc validation: 0.9500000\n",
      "Iter:    17 | Cost: 0.3516486 | Acc train: 0.9300000 | Acc validation: 0.9400000\n",
      "Iter:    18 | Cost: 0.3646846 | Acc train: 0.9233333 | Acc validation: 0.9200000\n",
      "Iter:    19 | Cost: 0.3600958 | Acc train: 0.9233333 | Acc validation: 0.9200000\n",
      "Iter:    20 | Cost: 0.3476179 | Acc train: 0.9300000 | Acc validation: 0.9400000\n",
      "Iter:    21 | Cost: 0.3376236 | Acc train: 0.9433333 | Acc validation: 0.9500000\n",
      "Iter:    22 | Cost: 0.3448657 | Acc train: 0.9633333 | Acc validation: 0.9600000\n",
      "Iter:    23 | Cost: 0.3506048 | Acc train: 0.9666667 | Acc validation: 0.9600000\n",
      "Iter:    24 | Cost: 0.3477393 | Acc train: 0.9666667 | Acc validation: 0.9600000\n",
      "Iter:    25 | Cost: 0.3327138 | Acc train: 0.9666667 | Acc validation: 0.9600000\n",
      "highest accuracy in validation-97.0000000%\n"
     ]
    }
   ],
   "source": [
    "learning_rate=0.05\n",
    "opt = AdamOptimizer(learning_rate)\n",
    "batch_size = 150\n",
    "n_qubits,n_layers = 2,6\n",
    "weights = 0.01 * np.random.randn(n_layers, n_qubits, 3, requires_grad=True)\n",
    "bias = np.array(0.0, requires_grad=True)\n",
    "best_w,best_b,best_v=weights,bias,0\n",
    "AV,AT=[],[]\n",
    "\n",
    "for it in range(25):\n",
    "    batch_index = np.random.randint(0, len(Y_train), (batch_size,))\n",
    "    feats_train_batch = feats_train[batch_index]\n",
    "    Y_train_batch = Y_train[batch_index]\n",
    "    weights, bias, _, _ = opt.step(cost, weights, bias, feats_train_batch, Y_train_batch)\n",
    "\n",
    "    predictions_train = [np.sign(variational_classifier(weights, bias, f)) for f in feats_train]\n",
    "    predictions_val = [np.sign(variational_classifier(weights, bias, f)) for f in feats_val]\n",
    "\n",
    "    acc_train = accuracy(Y_train, predictions_train)\n",
    "    acc_val = accuracy(Y_val, predictions_val)\n",
    "    AV.append(acc_val);AT.append(acc_train)\n",
    "    \n",
    "    if acc_val>best_v: best_w,best_b,best_v=weights,bias,acc_val\n",
    "    \n",
    "    print(\"Iter: {:5d} | Cost: {:0.7f} | Acc train: {:0.7f} | Acc validation: {:0.7f}\"\"\".format(it + 1, cost(weights, bias, features, Y), acc_train, acc_val)\n",
    "    )\n",
    "print(\"highest accuracy in validation-{:0.7f}%\"\"\".format(best_v*100))"
   ]
  },
  {
   "cell_type": "code",
   "execution_count": 17,
   "id": "c0019f70",
   "metadata": {
    "scrolled": false
   },
   "outputs": [
    {
     "data": {
      "text/plain": [
       "<matplotlib.legend.Legend at 0x23c10687ca0>"
      ]
     },
     "execution_count": 17,
     "metadata": {},
     "output_type": "execute_result"
    },
    {
     "data": {
      "image/png": "[encoded data removed]",
      "text/plain": [
       "<Figure size 432x288 with 1 Axes>"
      ]
     },
     "metadata": {
      "needs_background": "light"
     },
     "output_type": "display_data"
    }
   ],
   "source": [
    "plt.figure()\n",
    "plt.plot(AT,label='training')\n",
    "plt.plot(AV,label='validation')\n",
    "plt.title('plot of accuracy with number of iterations')\n",
    "plt.legend()"
   ]
  },
  {
   "cell_type": "markdown",
   "id": "92aff8e0",
   "metadata": {},
   "source": [
    "## Training a SVM classifier using quantum kernels"
   ]
  },
  {
   "cell_type": "markdown",
   "id": "125790b6",
   "metadata": {},
   "source": [
    "In kernel based training, first the data is encode to quantum states using a feature map. The strategy is to use a feature map from the space of data to a feature space of density matrices, where the quantum models can be expressed as linear models with a decision boundary defined by the measurement."
   ]
  },
  {
   "cell_type": "markdown",
   "id": "5f467b0e",
   "metadata": {},
   "source": [
    "The difference between kernel based training and variational quantum circuits is that, in the latter, the training of the quantum model is done variationally, whereas in the former, we train an equivalent classical kernel method with a kernel(feature mapping) executed on a quantum device.\n",
    "\n",
    "Below we show the difference in the structure of both methods, where VQC is shown in left and Kernel based training on the right. (source:https://pennylane.ai/qml/demos/tutorial_kernel_based_training.html)"
   ]
  },
  {
   "cell_type": "markdown",
   "id": "4dea6d1c",
   "metadata": {},
   "source": [
    "<img src=\"kernel.png\" width=\"600\"/>"
   ]
  },
  {
   "cell_type": "markdown",
   "id": "843e0c64",
   "metadata": {},
   "source": [
    "Lets create the features and targets. This time, lets use the standard scaler-i.e. scale the data such that the variance of data is 1. Next divide the data into 3:1 train:test split."
   ]
  },
  {
   "cell_type": "code",
   "execution_count": 18,
   "id": "deeaf6f3",
   "metadata": {},
   "outputs": [],
   "source": [
    "scaler=StandardScaler()\n",
    "X,Y=scaler.fit_transform(data[['u','r','z','redshift']]),data['class'].values"
   ]
  },
  {
   "cell_type": "code",
   "execution_count": 19,
   "id": "39a47ab3",
   "metadata": {},
   "outputs": [],
   "source": [
    "X_train, X_test, y_train, y_test = train_test_split(X,Y,test_size=0.25)"
   ]
  },
  {
   "cell_type": "markdown",
   "id": "a220def4",
   "metadata": {},
   "source": [
    "We will implement the kernel by preparing states using angle encoding. Angle encoding means the features will directly be mapped to an angle. The quantum state in the circuit will be rotated about X axis by this angle to encode the features. The number of qubits needed for this is the same as number of features."
   ]
  },
  {
   "cell_type": "markdown",
   "id": "00c69af2",
   "metadata": {},
   "source": [
    "The kernel will require the two states |ϕ(x)⟩, |ϕ(x′)⟩ using angle-embedding routines S(x),S(x′) respectively. It will yield the their overlap with a small routine called a SWAP test. We then measure the projector onto the initial state |0..0⟩⟨0..0|. The kernel will send the evaluations for samples in two different datasets A, B to the kernel method, which in our case is a Support Vector Machine."
   ]
  },
  {
   "cell_type": "code",
   "execution_count": 20,
   "id": "9d6b36d7",
   "metadata": {},
   "outputs": [],
   "source": [
    "n_qubits=4\n",
    "dev_kernel = qml.device(\"default.qubit\", wires=n_qubits)\n",
    "\n",
    "projector = np.zeros((2**n_qubits, 2**n_qubits))\n",
    "projector[0, 0] = 1\n",
    "\n",
    "@qml.qnode(dev_kernel)\n",
    "def kernel(x1, x2):\n",
    "    AngleEmbedding(x1, wires=range(n_qubits))\n",
    "    qml.adjoint(AngleEmbedding)(x2, wires=range(n_qubits))\n",
    "    return qml.expval(qml.Hermitian(projector, wires=range(n_qubits)))"
   ]
  },
  {
   "cell_type": "code",
   "execution_count": 21,
   "id": "4bea35bb",
   "metadata": {},
   "outputs": [],
   "source": [
    "dev = qml.device(\"default.qubit\", wires=2)"
   ]
  },
  {
   "cell_type": "code",
   "execution_count": 22,
   "id": "b0bce13f",
   "metadata": {},
   "outputs": [],
   "source": [
    "def kernel_matrix(A, B):\n",
    "    return np.array([[kernel(a, b) for b in B] for a in A])"
   ]
  },
  {
   "cell_type": "markdown",
   "id": "09d276f1",
   "metadata": {},
   "source": [
    "Define the Support Vector Machine with our quantum kernel and fit it to the training dataset."
   ]
  },
  {
   "cell_type": "code",
   "execution_count": 23,
   "id": "b982a019",
   "metadata": {},
   "outputs": [],
   "source": [
    "svm = SVC(kernel=kernel_matrix).fit(X_train, y_train)"
   ]
  },
  {
   "cell_type": "markdown",
   "id": "9844c688",
   "metadata": {},
   "source": [
    "Make predictions on the test dataset and output the accuracy."
   ]
  },
  {
   "cell_type": "code",
   "execution_count": 24,
   "id": "7c7fbbde",
   "metadata": {},
   "outputs": [
    {
     "data": {
      "text/plain": [
       "0.98"
      ]
     },
     "execution_count": 24,
     "metadata": {},
     "output_type": "execute_result"
    }
   ],
   "source": [
    "predictions = svm.predict(X_test)\n",
    "accuracy_score(predictions, y_test)"
   ]
  }
 ],
 "metadata": {
  "kernelspec": {
   "display_name": "Python 3 (ipykernel)",
   "language": "python",
   "name": "python3"
  },
  "language_info": {
   "codemirror_mode": {
    "name": "ipython",
    "version": 3
   },
   "file_extension": ".py",
   "mimetype": "text/x-python",
   "name": "python",
   "nbconvert_exporter": "python",
   "pygments_lexer": "ipython3",
   "version": "3.8.12"
  }
 },
 "nbformat": 4,
 "nbformat_minor": 5
}
